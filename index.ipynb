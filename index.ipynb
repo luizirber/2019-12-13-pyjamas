{
 "cells": [
  {
   "cell_type": "markdown",
   "metadata": {
    "slideshow": {
     "slide_type": "slide"
    }
   },
   "source": [
    "# Organizando sua análise de dados com Snakemake"
   ]
  },
  {
   "cell_type": "markdown",
   "metadata": {
    "slideshow": {
     "slide_type": "slide"
    }
   },
   "source": [
    "## Ciências de dados\n",
    "\n",
    "- 10% análise\n",
    "- 90% limpando dados, esperando rodar a análise..."
   ]
  },
  {
   "cell_type": "markdown",
   "metadata": {
    "slideshow": {
     "slide_type": "slide"
    }
   },
   "source": [
    "## Um exemplo: bioinformática\n",
    "\n",
    "- Várias ferramentas, executadas em sequência\n",
    "- cada uma com diferentes tipos de entradas e saídas\n",
    "    * e ferramentas extras pra converter formatos\n",
    "- Reproducibilidade é importante\n",
    "    * Mas..."
   ]
  },
  {
   "cell_type": "markdown",
   "metadata": {
    "slideshow": {
     "slide_type": "slide"
    }
   },
   "source": [
    "## O seu pior inimigo é você mesmo, seis meses atrás\n",
    "  \n",
    "Soluções?\n",
    " - versionamento\n",
    " - documentação\n",
    " - automação"
   ]
  },
  {
   "cell_type": "markdown",
   "metadata": {
    "slideshow": {
     "slide_type": "slide"
    }
   },
   "source": [
    "## shell scripts como documentação executável\n",
    "\n",
    "- Rode tudo no shell\n",
    "- `history > run.sh`\n",
    "- É um começo..."
   ]
  },
  {
   "cell_type": "markdown",
   "metadata": {
    "slideshow": {
     "slide_type": "slide"
    }
   },
   "source": [
    "## Melhor: um shell script comentado!\n",
    "\n",
    "- Por que você está executando cada comando?"
   ]
  },
  {
   "cell_type": "markdown",
   "metadata": {
    "slideshow": {
     "slide_type": "slide"
    }
   },
   "source": [
    "## Exemplo: 01-shell/run.sh"
   ]
  },
  {
   "cell_type": "code",
   "execution_count": 1,
   "metadata": {},
   "outputs": [
    {
     "name": "stdout",
     "output_type": "stream",
     "text": [
      "/home/chick/prj/2019-12-13-pyjamas/01_shell\n"
     ]
    }
   ],
   "source": [
    "cd 01_shell"
   ]
  },
  {
   "cell_type": "code",
   "execution_count": 2,
   "metadata": {},
   "outputs": [
    {
     "name": "stdout",
     "output_type": "stream",
     "text": [
      "inputs\toutputs  run_improved.sh  run.sh\n"
     ]
    }
   ],
   "source": [
    "!ls"
   ]
  },
  {
   "cell_type": "code",
   "execution_count": 3,
   "metadata": {},
   "outputs": [
    {
     "name": "stdout",
     "output_type": "stream",
     "text": [
      "#! /bin/bash\n",
      "\n",
      "# Baixa arquivo para classificação\n",
      "mkdir -p inputs/HMP\n",
      "wget -O inputs/HMP/HSMA33OT.fastq.gz https://ibdmdb.org/tunnel/static/HMP2/WGS/1750/HSMA33OT.fastq.gz\n",
      "\n",
      "# Baixa base de dados para comparação\n",
      "mkdir -p inputs/lca\n",
      "wget -O inputs/lca/genbank-k21.lca.json.gz https://osf.io/d7rv8/download\n",
      "\n",
      "# Calcula uma assinatura para o arquivo a ser classificado\n",
      "mkdir -p outputs/2.3.0\n",
      "sourmash compute -k 21,31,51 \\\n",
      "  --scaled 2000 \\\n",
      "  --track-abundance \\\n",
      "  --name-from-first \\\n",
      "  -o outputs/2.3.0/HSMA33OT.fastq.gz.sig \\\n",
      "  inputs/HMP/HSMA33OT.fastq.gz\n",
      "\n",
      "# Classifica a assinatura contra a base de dados\n",
      "mkdir -p outputs/2.3.0/lca_search/k21\n",
      "sourmash search -o outputs/2.3.0/lca_search/k21/HSMA33OT.fastq.gz.log \\\n",
      "  --scaled 2000  \\\n",
      "  -k 21 \\\n",
      "  outputs/2.3.0/HSMA33OT.fastq.gz.sig \\\n",
      "  inputs/lca/genbank-k21.lca.json.gz\n"
     ]
    }
   ],
   "source": [
    "!cat run.sh"
   ]
  },
  {
   "cell_type": "markdown",
   "metadata": {
    "slideshow": {
     "slide_type": "slide"
    }
   },
   "source": [
    "## Problemas com shell scripts\n",
    "\n",
    "- Adicionando novos comandos? Reexecutar tudo...\n",
    "    - Idempotência\n",
    "- Qual a dependência entre comandos? Qual deve ser executado antes?\n",
    "    - Fluxo de dados\n",
    "- E se eu quiser executar com 100 entradas, em vez de uma só?\n",
    "    - Paralelização"
   ]
  },
  {
   "cell_type": "markdown",
   "metadata": {
    "slideshow": {
     "slide_type": "slide"
    }
   },
   "source": [
    "## Por que snakemake?\n",
    "\n",
    "- Ideia similar ao Make:\n",
    "    - alvos\n",
    "    - dependências\n",
    "- Escreva regras para gerar um arquivo\n",
    "- snakemake se responsabiliza por encontrar a ordem de execução"
   ]
  },
  {
   "cell_type": "markdown",
   "metadata": {
    "slideshow": {
     "slide_type": "slide"
    }
   },
   "source": [
    "## Exemplo: 02-snakemake/"
   ]
  },
  {
   "cell_type": "code",
   "execution_count": 4,
   "metadata": {},
   "outputs": [
    {
     "name": "stdout",
     "output_type": "stream",
     "text": [
      "/home/chick/prj/2019-12-13-pyjamas/02_snakemake\n"
     ]
    }
   ],
   "source": [
    "cd ../02_snakemake/"
   ]
  },
  {
   "cell_type": "code",
   "execution_count": null,
   "metadata": {},
   "outputs": [],
   "source": []
  }
 ],
 "metadata": {
  "celltoolbar": "Slideshow",
  "kernelspec": {
   "display_name": "Python 3",
   "language": "python",
   "name": "python3"
  },
  "language_info": {
   "codemirror_mode": {
    "name": "ipython",
    "version": 3
   },
   "file_extension": ".py",
   "mimetype": "text/x-python",
   "name": "python",
   "nbconvert_exporter": "python",
   "pygments_lexer": "ipython3",
   "version": "3.7.3"
  },
  "nav_menu": {},
  "toc": {
   "navigate_menu": true,
   "number_sections": false,
   "sideBar": true,
   "threshold": 6,
   "toc_cell": false,
   "toc_section_display": "block",
   "toc_window_display": false
  },
  "toc_position": {
   "height": "684.467px",
   "left": "0px",
   "right": "1152.8px",
   "top": "110.533px",
   "width": "212px"
  }
 },
 "nbformat": 4,
 "nbformat_minor": 4
}
